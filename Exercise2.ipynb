{
  "nbformat": 4,
  "nbformat_minor": 0,
  "metadata": {
    "colab": {
      "provenance": [],
      "authorship_tag": "ABX9TyO/LTyz9PFgS+5WFC+UcKYS",
      "include_colab_link": true
    },
    "kernelspec": {
      "name": "python3",
      "display_name": "Python 3"
    },
    "language_info": {
      "name": "python"
    }
  },
  "cells": [
    {
      "cell_type": "markdown",
      "metadata": {
        "id": "view-in-github",
        "colab_type": "text"
      },
      "source": [
        "<a href=\"https://colab.research.google.com/github/ocalvp00/Lab2/blob/main/Exercise2.ipynb\" target=\"_parent\"><img src=\"https://colab.research.google.com/assets/colab-badge.svg\" alt=\"Open In Colab\"/></a>"
      ]
    },
    {
      "cell_type": "code",
      "execution_count": 3,
      "metadata": {
        "colab": {
          "base_uri": "https://localhost:8080/"
        },
        "id": "VF3Gj-BK0cVk",
        "outputId": "0a7e1f0e-8c32-46ff-cec8-a4b2b54aaa43"
      },
      "outputs": [
        {
          "output_type": "stream",
          "name": "stdout",
          "text": [
            "Enter number 10\n",
            "Sum is: 55\n"
          ]
        }
      ],
      "source": [
        "number = int(input(\"Enter number \"))\n",
        "\n",
        "sum = 0\n",
        "\n",
        "for i in range(1, number + 1):\n",
        "    sum += i\n",
        "\n",
        "print(\"Sum is:\", sum)\n"
      ]
    }
  ]
}