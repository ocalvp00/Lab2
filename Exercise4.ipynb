{
  "nbformat": 4,
  "nbformat_minor": 0,
  "metadata": {
    "colab": {
      "provenance": [],
      "authorship_tag": "ABX9TyPY2bj7TQ6zcW1/q5jy0uAv",
      "include_colab_link": true
    },
    "kernelspec": {
      "name": "python3",
      "display_name": "Python 3"
    },
    "language_info": {
      "name": "python"
    }
  },
  "cells": [
    {
      "cell_type": "markdown",
      "metadata": {
        "id": "view-in-github",
        "colab_type": "text"
      },
      "source": [
        "<a href=\"https://colab.research.google.com/github/ocalvp00/Lab2/blob/main/Exercise4.ipynb\" target=\"_parent\"><img src=\"https://colab.research.google.com/assets/colab-badge.svg\" alt=\"Open In Colab\"/></a>"
      ]
    },
    {
      "cell_type": "code",
      "execution_count": 1,
      "metadata": {
        "colab": {
          "base_uri": "https://localhost:8080/"
        },
        "id": "toZLAGqj2jE7",
        "outputId": "3007d90b-3abd-4882-d186-4f6b0ada9582"
      },
      "outputs": [
        {
          "output_type": "stream",
          "name": "stdout",
          "text": [
            "Enter number 75869\n",
            "Total number of digits: 5\n"
          ]
        }
      ],
      "source": [
        "number = int(input(\"Enter number \"))\n",
        "\n",
        "count = 0\n",
        "\n",
        "while number > 0:\n",
        "    count += 1\n",
        "    number = number // 10\n",
        "\n",
        "print(\"Total number of digits:\", count)\n"
      ]
    }
  ]
}