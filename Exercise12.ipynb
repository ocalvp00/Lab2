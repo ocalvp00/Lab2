{
  "nbformat": 4,
  "nbformat_minor": 0,
  "metadata": {
    "colab": {
      "provenance": [],
      "authorship_tag": "ABX9TyMGjwmAZ3h1l5U9j5hHig85",
      "include_colab_link": true
    },
    "kernelspec": {
      "name": "python3",
      "display_name": "Python 3"
    },
    "language_info": {
      "name": "python"
    }
  },
  "cells": [
    {
      "cell_type": "markdown",
      "metadata": {
        "id": "view-in-github",
        "colab_type": "text"
      },
      "source": [
        "<a href=\"https://colab.research.google.com/github/ocalvp00/Lab2/blob/main/Exercise12.ipynb\" target=\"_parent\"><img src=\"https://colab.research.google.com/assets/colab-badge.svg\" alt=\"Open In Colab\"/></a>"
      ]
    },
    {
      "cell_type": "code",
      "execution_count": 3,
      "metadata": {
        "colab": {
          "base_uri": "https://localhost:8080/"
        },
        "id": "bJWCPXtQ7T_w",
        "outputId": "8bbb8398-846a-45c8-9bbc-39f804fda54f"
      },
      "outputs": [
        {
          "output_type": "stream",
          "name": "stdout",
          "text": [
            "Password: *8O7W|ftLG\n"
          ]
        }
      ],
      "source": [
        "import random\n",
        "import string\n",
        "\n",
        "length = 10\n",
        "\n",
        "nuppercase = 2\n",
        "ndigits = 1\n",
        "nspecial_symbols = 1\n",
        "\n",
        "uppercase = string.ascii_uppercase\n",
        "digits = string.digits\n",
        "special_symbols = string.punctuation\n",
        "\n",
        "password_chars = (\n",
        "    random.choices(uppercase, k=nuppercase) +\n",
        "    random.choices(digits, k=ndigits) +\n",
        "    random.choices(special_symbols, k=nspecial_symbols) +\n",
        "    random.choices(string.ascii_letters + string.digits + string.punctuation, k=length - nuppercase - ndigits - nspecial_symbols)\n",
        ")\n",
        "\n",
        "random.shuffle(password_chars)\n",
        "\n",
        "password = ''.join(password_chars)\n",
        "\n",
        "print(\"Password:\", password)"
      ]
    }
  ]
}