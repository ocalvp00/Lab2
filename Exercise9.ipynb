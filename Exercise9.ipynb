{
  "nbformat": 4,
  "nbformat_minor": 0,
  "metadata": {
    "colab": {
      "provenance": [],
      "authorship_tag": "ABX9TyNCxgKYhnOEpI/8mrMK9nU3",
      "include_colab_link": true
    },
    "kernelspec": {
      "name": "python3",
      "display_name": "Python 3"
    },
    "language_info": {
      "name": "python"
    }
  },
  "cells": [
    {
      "cell_type": "markdown",
      "metadata": {
        "id": "view-in-github",
        "colab_type": "text"
      },
      "source": [
        "<a href=\"https://colab.research.google.com/github/ocalvp00/Lab2/blob/main/Exercise9.ipynb\" target=\"_parent\"><img src=\"https://colab.research.google.com/assets/colab-badge.svg\" alt=\"Open In Colab\"/></a>"
      ]
    },
    {
      "cell_type": "code",
      "execution_count": 1,
      "metadata": {
        "colab": {
          "base_uri": "https://localhost:8080/"
        },
        "id": "4cf8Bnsb5GaO",
        "outputId": "272821d2-c21f-47ae-c3f2-9254a25c6b09"
      },
      "outputs": [
        {
          "output_type": "stream",
          "name": "stdout",
          "text": [
            "Printing Original array\n",
            "[[34 43 73]\n",
            " [82 22 12]\n",
            " [53 94 66]]\n",
            "\n",
            "Sorting Original array by second row\n",
            "[[73 43 34]\n",
            " [12 22 82]\n",
            " [66 94 53]]\n",
            "\n",
            "Sorting Original array by second column\n",
            "[[82 22 12]\n",
            " [34 43 73]\n",
            " [53 94 66]]\n"
          ]
        }
      ],
      "source": [
        "import numpy as np\n",
        "\n",
        "array = np.array([[34, 43, 73], [82, 22, 12], [53, 94, 66]])\n",
        "\n",
        "#Case 1\n",
        "print(\"Printing Original array\")\n",
        "print(array)\n",
        "\n",
        "index_row = np.argsort(array[1, :])\n",
        "\n",
        "array_row = array[:, index_row]\n",
        "print(\"\\nSorting Original array by second row\")\n",
        "print(array_row)\n",
        "\n",
        "\n",
        "#Case 2\n",
        "index_column = np.argsort(array[:, 1])\n",
        "\n",
        "array_column = array[index_column, :]\n",
        "print(\"\\nSorting Original array by second column\")\n",
        "print(array_column)\n"
      ]
    }
  ]
}