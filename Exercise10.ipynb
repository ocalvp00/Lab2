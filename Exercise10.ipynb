{
  "nbformat": 4,
  "nbformat_minor": 0,
  "metadata": {
    "colab": {
      "provenance": [],
      "authorship_tag": "ABX9TyOpf6QRvIg4ZX5+1tFpXDYP",
      "include_colab_link": true
    },
    "kernelspec": {
      "name": "python3",
      "display_name": "Python 3"
    },
    "language_info": {
      "name": "python"
    }
  },
  "cells": [
    {
      "cell_type": "markdown",
      "metadata": {
        "id": "view-in-github",
        "colab_type": "text"
      },
      "source": [
        "<a href=\"https://colab.research.google.com/github/ocalvp00/Lab2/blob/main/Exercise10.ipynb\" target=\"_parent\"><img src=\"https://colab.research.google.com/assets/colab-badge.svg\" alt=\"Open In Colab\"/></a>"
      ]
    },
    {
      "cell_type": "code",
      "execution_count": 1,
      "metadata": {
        "colab": {
          "base_uri": "https://localhost:8080/"
        },
        "id": "eBR_xR-V6NSO",
        "outputId": "adf86202-01e2-4edb-bbdf-f34655fc3bec"
      },
      "outputs": [
        {
          "output_type": "stream",
          "name": "stdout",
          "text": [
            "Printing Original array\n",
            "[[34 43 73]\n",
            " [82 22 12]\n",
            " [53 94 66]]\n",
            "\n",
            "Array after deleting column 2\n",
            "[[34 73]\n",
            " [82 12]\n",
            " [53 66]]\n",
            "\n",
            "Array after inserting column 2\n",
            "[[34 10 73]\n",
            " [82 10 12]\n",
            " [53 10 66]]\n"
          ]
        }
      ],
      "source": [
        "import numpy as np\n",
        "\n",
        "array = np.array([[34, 43, 73], [82, 22, 12], [53, 94, 66]])\n",
        "\n",
        "column = np.array([[10, 10, 10]])\n",
        "\n",
        "print(\"Printing Original array\")\n",
        "print(array)\n",
        "\n",
        "array_deleted = np.delete(array, 1, axis=1)\n",
        "print(\"\\nArray after deleting column 2\")\n",
        "print(array_deleted)\n",
        "\n",
        "array_inserted = np.insert(array_deleted, 1, column, axis=1)\n",
        "print(\"\\nArray after inserting column 2\")\n",
        "print(array_inserted)"
      ]
    }
  ]
}